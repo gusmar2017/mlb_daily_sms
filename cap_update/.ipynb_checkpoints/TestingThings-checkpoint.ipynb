{
 "cells": [
  {
   "cell_type": "code",
   "execution_count": 1,
   "metadata": {},
   "outputs": [
    {
     "ename": "NameError",
     "evalue": "name 'datetime' is not defined",
     "output_type": "error",
     "traceback": [
      "\u001b[0;31m---------------------------------------------------------------------------\u001b[0m",
      "\u001b[0;31mNameError\u001b[0m                                 Traceback (most recent call last)",
      "\u001b[0;32m<ipython-input-1-54bb93d93158>\u001b[0m in \u001b[0;36m<module>\u001b[0;34m\u001b[0m\n\u001b[0;32m----> 1\u001b[0;31m \u001b[0;32mfrom\u001b[0m \u001b[0mupdates\u001b[0m \u001b[0;32mimport\u001b[0m \u001b[0mGameToday\u001b[0m\u001b[0;34m\u001b[0m\u001b[0m\n\u001b[0m\u001b[1;32m      2\u001b[0m \u001b[0;32mimport\u001b[0m \u001b[0mdatetime\u001b[0m\u001b[0;34m\u001b[0m\u001b[0m\n\u001b[1;32m      3\u001b[0m \u001b[0;32mimport\u001b[0m \u001b[0msys\u001b[0m\u001b[0;34m\u001b[0m\u001b[0m\n\u001b[1;32m      4\u001b[0m \u001b[0msys\u001b[0m\u001b[0;34m.\u001b[0m\u001b[0mpath\u001b[0m\u001b[0;34m.\u001b[0m\u001b[0mappend\u001b[0m\u001b[0;34m(\u001b[0m\u001b[0;34m\"/users/gustavomarquez/Desktop/rays_updates\"\u001b[0m\u001b[0;34m)\u001b[0m\u001b[0;34m\u001b[0m\u001b[0m\n\u001b[1;32m      5\u001b[0m \u001b[0mobj\u001b[0m \u001b[0;34m=\u001b[0m \u001b[0mGameToday\u001b[0m\u001b[0;34m(\u001b[0m\u001b[0;34m)\u001b[0m\u001b[0;34m\u001b[0m\u001b[0m\n",
      "\u001b[0;32m~/Desktop/rays_updates/cap_update/updates.py\u001b[0m in \u001b[0;36m<module>\u001b[0;34m\u001b[0m\n\u001b[1;32m      7\u001b[0m                                     \u001b[0m_convert_to_est\u001b[0m\u001b[0;34m\u001b[0m\u001b[0m\n\u001b[1;32m      8\u001b[0m \u001b[0;34m\u001b[0m\u001b[0m\n\u001b[0;32m----> 9\u001b[0;31m \u001b[0;32mfrom\u001b[0m \u001b[0mdatautils\u001b[0m\u001b[0;34m.\u001b[0m\u001b[0mgame_details\u001b[0m \u001b[0;32mimport\u001b[0m \u001b[0mget_teams_games_today\u001b[0m\u001b[0;34m\u001b[0m\u001b[0m\n\u001b[0m\u001b[1;32m     10\u001b[0m \u001b[0;34m\u001b[0m\u001b[0m\n\u001b[1;32m     11\u001b[0m \u001b[0;32mfrom\u001b[0m \u001b[0mdatautils\u001b[0m\u001b[0;34m.\u001b[0m\u001b[0malerter\u001b[0m \u001b[0;32mimport\u001b[0m \u001b[0msend_sms\u001b[0m\u001b[0;34m\u001b[0m\u001b[0m\n",
      "\u001b[0;32m/users/gustavomarquez/Desktop/rays_updates/datautils/game_details.py\u001b[0m in \u001b[0;36m<module>\u001b[0;34m\u001b[0m\n\u001b[1;32m      5\u001b[0m \u001b[0;32mfrom\u001b[0m \u001b[0mdatetime\u001b[0m \u001b[0;32mimport\u001b[0m \u001b[0mdatetime\u001b[0m\u001b[0;34m\u001b[0m\u001b[0m\n\u001b[1;32m      6\u001b[0m \u001b[0;34m\u001b[0m\u001b[0m\n\u001b[0;32m----> 7\u001b[0;31m \u001b[0;32mfrom\u001b[0m \u001b[0mdatautils\u001b[0m\u001b[0;34m.\u001b[0m\u001b[0mteam_details\u001b[0m \u001b[0;32mimport\u001b[0m \u001b[0m_extract_aggregate_teampk\u001b[0m\u001b[0;34m\u001b[0m\u001b[0m\n\u001b[0m\u001b[1;32m      8\u001b[0m \u001b[0;34m\u001b[0m\u001b[0m\n\u001b[1;32m      9\u001b[0m \u001b[0;32mfrom\u001b[0m \u001b[0mdatautils\u001b[0m\u001b[0;34m.\u001b[0m\u001b[0mdatetime_help\u001b[0m \u001b[0;32mimport\u001b[0m \u001b[0m_convert_timestamp_datetime\u001b[0m\u001b[0;34m,\u001b[0m\u001b[0;31m\\\u001b[0m\u001b[0;34m\u001b[0m\u001b[0m\n",
      "\u001b[0;32m/users/gustavomarquez/Desktop/rays_updates/datautils/team_details.py\u001b[0m in \u001b[0;36m<module>\u001b[0;34m\u001b[0m\n\u001b[1;32m     12\u001b[0m \u001b[0;31m#+++++++++++++++++++++++++++++++++++++++++++++++++++++++++++++++#\u001b[0m\u001b[0;34m\u001b[0m\u001b[0;34m\u001b[0m\u001b[0m\n\u001b[1;32m     13\u001b[0m \u001b[0;34m\u001b[0m\u001b[0m\n\u001b[0;32m---> 14\u001b[0;31m def grab_active_teams(season=datetime.now().year,activeStatus='Y',\n\u001b[0m\u001b[1;32m     15\u001b[0m                 sportIds=1):\n\u001b[1;32m     16\u001b[0m     params = {'activeStatus':activeStatus,\n",
      "\u001b[0;31mNameError\u001b[0m: name 'datetime' is not defined"
     ]
    }
   ],
   "source": [
    "import sys\n",
    "sys.path.append(\"/users/gustavomarquez/Desktop/rays_updates\")\n",
    "\n",
    "from updates import GameToday\n",
    "import datetime\n",
    "obj = GameToday()\n",
    "#obj.next_game_alert_setup()"
   ]
  },
  {
   "cell_type": "code",
   "execution_count": 2,
   "metadata": {},
   "outputs": [
    {
     "data": {
      "text/plain": [
       "{'user_1': ['The Tampa Bay Rays (35-21) will be home today against the Minnesota Twins (39-18): 17:10 at Tropicana Field. The Tampa Bay Rays will throw Yonny Chirinos.The Minnesota Twins have Kyle Gibson on the hill.'],\n",
       " 'user_2': ['The Chicago Cubs (31-24) will be away tonight against the St. Louis Cardinals (28-28): 23:15 at Busch Stadium. The Chicago Cubs will throw Jose Quintana: Quintana had a streak of eight straight starts with three runs or fewer allowed ended by the Reds last weekend. He has pitched at least six innings in six of his 10 starts, and the Cubs have won six of his last nine starts.The St. Louis Cardinals have Jack Flaherty on the hill: Flaherty had one of his best starts of the year on Sunday, allowing just three hits over six scoreless innings, while striking out seven and walking none. He settled for a no-decision, but he has a 2.78 ERA in his last six starts.',\n",
       "  'The New York Mets (28-29) will be away tonight against the Arizona Diamondbacks (28-30): 2:10 at Chase Field. The New York Mets will throw Jacob deGrom: deGrom hasn’t quite been his Cy-worthy self so far this season, but he was better in May, going 1-2 with a 2.92 ERA in that month. He’ll open June in Arizona, where deGrom allowed two earned runs in seven innings of his only other career start.The Arizona Diamondbacks have Zack Greinke on the hill: .'],\n",
       " 'user_3': ['The Cincinnati Reds (27-31) will be home today against the Washington Nationals (25-33): 20:10 at Great American Ball Park. The Cincinnati Reds will throw Tanner Roark.The Washington Nationals have Erick Fedde on the hill.',\n",
       "  'The Philadelphia Phillies (33-24) will be away tonight against the Los Angeles Dodgers (39-19): 2:10 at Dodger Stadium. The Philadelphia Phillies will throw Jose Alvarez.The Los Angeles Dodgers have Clayton Kershaw on the hill.']}"
      ]
     },
     "execution_count": 2,
     "metadata": {},
     "output_type": "execute_result"
    }
   ],
   "source": [
    "create_all_msgs(obj.user_data,obj.all_games)"
   ]
  },
  {
   "cell_type": "code",
   "execution_count": 21,
   "metadata": {
    "scrolled": false
   },
   "outputs": [
    {
     "name": "stdout",
     "output_type": "stream",
     "text": [
      "deGrom hasn’t quite been his Cy-worthy self so far this season, but he was better in May, going 1-2 with a 2.92 ERA in that month. He’ll open June in Arizona, where deGrom allowed two earned runs in seven innings of his only other career start.\n",
      "\n",
      "\n",
      "{'id': 425844, 'fullName': 'Greinke, Zack', 'link': '/api/v1/people/425844'}\n"
     ]
    }
   ],
   "source": [
    "x = 3\n",
    "print(obj.all_games[x]['teams']['away']['probablePitcher']['note'])\n",
    "print('\\n')\n",
    "print(obj.all_games[x]['teams']['home']['probablePitcher'])#['note'])"
   ]
  },
  {
   "cell_type": "code",
   "execution_count": 4,
   "metadata": {},
   "outputs": [
    {
     "data": {
      "text/plain": [
       "[{'id': 139,\n",
       "  'name': 'Tampa Bay Rays',\n",
       "  'teamCode': 'tba',\n",
       "  'fileCode': 'tb',\n",
       "  'teamName': 'Rays',\n",
       "  'locationName': 'Tampa Bay',\n",
       "  'shortName': 'Tampa Bay'},\n",
       " {'id': 147,\n",
       "  'name': 'New York Yankees',\n",
       "  'teamCode': 'nya',\n",
       "  'fileCode': 'nyy',\n",
       "  'teamName': 'Yankees',\n",
       "  'locationName': 'Bronx',\n",
       "  'shortName': 'NY Yankees'}]"
      ]
     },
     "execution_count": 4,
     "metadata": {},
     "output_type": "execute_result"
    }
   ],
   "source": [
    "import statsapi\n",
    "\n",
    "team_lst = ['Rays','Yankees']\n",
    "\n",
    "params = {'activeStatus':'Y',  \n",
    "          'sportIds':1, \n",
    "          'fields':'teams,id,name,teamCode,fileCode,teamName,locationName,shortName'}\n",
    "\n",
    "r = statsapi.get('teams',params)\n",
    "\n",
    "teams = []\n",
    "for team in r['teams']:\n",
    "    for v in team.values():\n",
    "        if str(v).lower() in [x.lower() for x in team_lst]:\n",
    "            teams.append(team)\n",
    "teams"
   ]
  },
  {
   "cell_type": "code",
   "execution_count": 31,
   "metadata": {},
   "outputs": [
    {
     "data": {
      "text/plain": [
       "{'copyright': 'Copyright 2019 MLB Advanced Media, L.P.  Use of any content on this page acknowledges agreement to the terms posted here http://gdx.mlb.com/components/copyright.txt',\n",
       " 'totalItems': 2,\n",
       " 'totalEvents': 0,\n",
       " 'totalGames': 2,\n",
       " 'totalGamesInProgress': 1,\n",
       " 'dates': [{'date': '2019-05-30',\n",
       "   'totalItems': 2,\n",
       "   'totalEvents': 0,\n",
       "   'totalGames': 2,\n",
       "   'totalGamesInProgress': 1,\n",
       "   'games': [{'gamePk': 567487,\n",
       "     'link': '/api/v1/game/567487/feed/live',\n",
       "     'gameType': 'R',\n",
       "     'season': '2019',\n",
       "     'gameDate': '2019-05-30T23:05:00Z',\n",
       "     'rescheduleDate': '2019-08-03T23:05:00Z',\n",
       "     'status': {'abstractGameState': 'Final',\n",
       "      'codedGameState': 'D',\n",
       "      'detailedState': 'Postponed',\n",
       "      'statusCode': 'DR',\n",
       "      'reason': 'Rain',\n",
       "      'abstractGameCode': 'F'},\n",
       "     'teams': {'away': {'leagueRecord': {'wins': 29,\n",
       "        'losses': 27,\n",
       "        'pct': '.518'},\n",
       "       'team': {'id': 111,\n",
       "        'name': 'Boston Red Sox',\n",
       "        'link': '/api/v1/teams/111'},\n",
       "       'probablePitcher': {'id': 519242,\n",
       "        'fullName': 'Sale, Chris',\n",
       "        'link': '/api/v1/people/519242'},\n",
       "       'splitSquad': False,\n",
       "       'seriesNumber': 19},\n",
       "      'home': {'leagueRecord': {'wins': 36, 'losses': 19, 'pct': '.655'},\n",
       "       'team': {'id': 147,\n",
       "        'name': 'New York Yankees',\n",
       "        'link': '/api/v1/teams/147'},\n",
       "       'probablePitcher': {'id': 457918,\n",
       "        'fullName': 'Happ, J.A.',\n",
       "        'link': '/api/v1/people/457918'},\n",
       "       'splitSquad': False,\n",
       "       'seriesNumber': 19}},\n",
       "     'venue': {'id': 3313,\n",
       "      'name': 'Yankee Stadium',\n",
       "      'link': '/api/v1/venues/3313'},\n",
       "     'content': {'link': '/api/v1/game/567487/content'},\n",
       "     'gameNumber': 1,\n",
       "     'publicFacing': True,\n",
       "     'doubleHeader': 'N',\n",
       "     'gamedayType': 'P',\n",
       "     'tiebreaker': 'N',\n",
       "     'calendarEventID': '14-567487-2019-05-30',\n",
       "     'seasonDisplay': '2019',\n",
       "     'dayNight': 'night',\n",
       "     'scheduledInnings': 9,\n",
       "     'gamesInSeries': 4,\n",
       "     'seriesGameNumber': 1,\n",
       "     'seriesDescription': 'Regular Season',\n",
       "     'recordSource': 'H',\n",
       "     'ifNecessary': 'N',\n",
       "     'ifNecessaryDescription': 'Normal Game'},\n",
       "    {'gamePk': 566691,\n",
       "     'link': '/api/v1/game/566691/feed/live',\n",
       "     'gameType': 'R',\n",
       "     'season': '2019',\n",
       "     'gameDate': '2019-05-30T23:10:00Z',\n",
       "     'status': {'abstractGameState': 'Live',\n",
       "      'codedGameState': 'I',\n",
       "      'detailedState': 'In Progress',\n",
       "      'statusCode': 'I',\n",
       "      'abstractGameCode': 'L'},\n",
       "     'teams': {'away': {'leagueRecord': {'wins': 37,\n",
       "        'losses': 17,\n",
       "        'pct': '.685'},\n",
       "       'score': 0,\n",
       "       'team': {'id': 142,\n",
       "        'name': 'Minnesota Twins',\n",
       "        'link': '/api/v1/teams/142'},\n",
       "       'probablePitcher': {'id': 527048,\n",
       "        'fullName': 'Perez, Martin',\n",
       "        'link': '/api/v1/people/527048',\n",
       "        'note': 'Pérez walked four and allowed six hits but stranded eight runners as he held the Angels to two runs in five innings in his last start. He has completed five innings in each of his eight starts and allowed three or fewer runs in all but one.'},\n",
       "       'splitSquad': False,\n",
       "       'seriesNumber': 19},\n",
       "      'home': {'leagueRecord': {'wins': 34, 'losses': 19, 'pct': '.642'},\n",
       "       'score': 0,\n",
       "       'team': {'id': 139,\n",
       "        'name': 'Tampa Bay Rays',\n",
       "        'link': '/api/v1/teams/139'},\n",
       "       'probablePitcher': {'id': 450203,\n",
       "        'fullName': 'Morton, Charlie',\n",
       "        'link': '/api/v1/people/450203',\n",
       "        'note': 'Though he holds an impressive 2.54 ERA this season, Morton is looking to continue to cut down on his walks against Minnesota. The 35-year-old right-hander has allowed two or more free passes in nine of his 11 starts this year.'},\n",
       "       'splitSquad': False,\n",
       "       'seriesNumber': 19}},\n",
       "     'venue': {'id': 12,\n",
       "      'name': 'Tropicana Field',\n",
       "      'link': '/api/v1/venues/12'},\n",
       "     'content': {'link': '/api/v1/game/566691/content'},\n",
       "     'gameNumber': 1,\n",
       "     'publicFacing': True,\n",
       "     'doubleHeader': 'N',\n",
       "     'gamedayType': 'P',\n",
       "     'tiebreaker': 'N',\n",
       "     'calendarEventID': '14-566691-2019-05-30',\n",
       "     'seasonDisplay': '2019',\n",
       "     'dayNight': 'night',\n",
       "     'scheduledInnings': 9,\n",
       "     'gamesInSeries': 4,\n",
       "     'seriesGameNumber': 1,\n",
       "     'seriesDescription': 'Regular Season',\n",
       "     'recordSource': 'S',\n",
       "     'ifNecessary': 'N',\n",
       "     'ifNecessaryDescription': 'Normal Game'}],\n",
       "   'events': []}]}"
      ]
     },
     "execution_count": 31,
     "metadata": {},
     "output_type": "execute_result"
    }
   ],
   "source": [
    "params2 = {'date':'2019-05-30',\n",
    "                    'teamId': get_teams(teams),\n",
    "                    'sportId':'1',\n",
    "                    'hydrate':'probablePitcher(note)'\n",
    "                    }\n",
    "game_obj = statsapi.get(\n",
    "    'schedule',params2)\n",
    "\n",
    "game_obj"
   ]
  },
  {
   "cell_type": "code",
   "execution_count": 29,
   "metadata": {},
   "outputs": [],
   "source": [
    "\n",
    "def get_teams(teams):\n",
    "    y = ''\n",
    "    for i in [str(x['id']) for x in teams]:\n",
    "        if y == '':\n",
    "            y += i\n",
    "        else:\n",
    "            y += ',' + i\n",
    "\n",
    "    return y"
   ]
  },
  {
   "cell_type": "code",
   "execution_count": 3,
   "metadata": {},
   "outputs": [
    {
     "data": {
      "text/plain": [
       "['',\n",
       " '/Users/gustavomarquez/Desktop/rays_updates/cap_update',\n",
       " '/usr/local/Cellar/python/3.7.0/Frameworks/Python.framework/Versions/3.7/lib/python37.zip',\n",
       " '/usr/local/Cellar/python/3.7.0/Frameworks/Python.framework/Versions/3.7/lib/python3.7',\n",
       " '/usr/local/Cellar/python/3.7.0/Frameworks/Python.framework/Versions/3.7/lib/python3.7/lib-dynload',\n",
       " '/Users/gustavomarquez/Library/Python/3.7/lib/python/site-packages',\n",
       " '/usr/local/lib/python3.7/site-packages',\n",
       " '/usr/local/lib/python3.7/site-packages/IPython/extensions',\n",
       " '/Users/gustavomarquez/.ipython',\n",
       " '/users/gustavomarquez/Desktop/rays_updates',\n",
       " '/users/gustavomarquez/Desktop/rays_updates',\n",
       " '/users/gustavomarquez/Desktop/rays_updates',\n",
       " '/users/gustavomarquez/Desktop/rays_updates',\n",
       " '/users/gustavomarquez/Desktop/rays_updates',\n",
       " '/users/gustavomarquez/Desktop/rays_updates',\n",
       " '/users/gustavomarquez/Desktop/rays_updates']"
      ]
     },
     "execution_count": 3,
     "metadata": {},
     "output_type": "execute_result"
    }
   ],
   "source": [
    "import sys\n",
    "sys.path"
   ]
  },
  {
   "cell_type": "code",
   "execution_count": null,
   "metadata": {},
   "outputs": [],
   "source": []
  }
 ],
 "metadata": {
  "kernelspec": {
   "display_name": "Python 3",
   "language": "python",
   "name": "python3"
  },
  "language_info": {
   "codemirror_mode": {
    "name": "ipython",
    "version": 3
   },
   "file_extension": ".py",
   "mimetype": "text/x-python",
   "name": "python",
   "nbconvert_exporter": "python",
   "pygments_lexer": "ipython3",
   "version": "3.7.0"
  }
 },
 "nbformat": 4,
 "nbformat_minor": 2
}
