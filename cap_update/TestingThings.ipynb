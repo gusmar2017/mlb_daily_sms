{
 "cells": [
  {
   "cell_type": "code",
   "execution_count": 1,
   "metadata": {},
   "outputs": [
    {
     "data": {
      "text/plain": [
       "'SMe79ce6a9bb6e44b1ad61176bc117df06'"
      ]
     },
     "execution_count": 1,
     "metadata": {},
     "output_type": "execute_result"
    }
   ],
   "source": [
    "from updates import GameToday\n",
    "import datetime\n",
    "obj = GameToday(team_name='Rays')\n",
    "obj.next_game_alert_setup() "
   ]
  },
  {
   "cell_type": "code",
   "execution_count": 7,
   "metadata": {},
   "outputs": [
    {
     "name": "stdout",
     "output_type": "stream",
     "text": [
      "None\n"
     ]
    }
   ],
   "source": [
    "import os\n",
    "print(os.environ.get('TWILIO_ACCOUNT_SID'))"
   ]
  },
  {
   "cell_type": "code",
   "execution_count": 23,
   "metadata": {},
   "outputs": [
    {
     "name": "stdout",
     "output_type": "stream",
     "text": [
      "environ({'GIT_PS1_SHOWDIRTYSTATE': '1', 'TERM_PROGRAM': 'Apple_Terminal', 'TERM': 'xterm-color', 'SHELL': '/bin/bash', 'TMPDIR': '/var/folders/fk/h5c552nn4b5dbdmbxkm0mn_80000gn/T/', 'Apple_PubSub_Socket_Render': '/private/tmp/com.apple.launchd.gqd6DV3OQS/Render', 'TERM_PROGRAM_VERSION': '421.1', 'TERM_SESSION_ID': '2EDB8F0D-49F4-4E44-8B15-C58C84BB3A3A', 'USER': 'gustavomarquez', 'SSH_AUTH_SOCK': '/private/tmp/com.apple.launchd.aq7fNXA4em/Listeners', 'PATH': '/usr/local/bin:/usr/local/bin:/usr/local/bin:/usr/bin:/bin:/usr/sbin:/sbin:/Applications/Postgres.app/Contents/Versions/latest/bin', 'PWD': '/Users/gustavomarquez', 'LANG': 'en_US.UTF-8', 'XPC_FLAGS': '0x0', 'PS1': '\\\\[\\\\033[0;35m\\\\]\\\\u\\\\[\\\\033[0;32m\\\\]$(__git_ps1)\\\\[\\\\033[0;34m\\\\] \\\\W $ \\\\[\\\\033[0m\\\\]', 'XPC_SERVICE_NAME': '0', 'HOME': '/Users/gustavomarquez', 'SHLVL': '1', 'LOGNAME': 'gustavomarquez', '_': '/usr/local/bin/jupyter', 'OLDPWD': '/Users/gustavomarquez/fan_draft', '__CF_USER_TEXT_ENCODING': '0x1F5:0x0:0x0', '__PYVENV_LAUNCHER__': '/usr/local/Cellar/python/3.7.0/bin/python3.7', 'JPY_PARENT_PID': '34792', 'CLICOLOR': '1', 'PAGER': 'cat', 'GIT_PAGER': 'cat', 'MPLBACKEND': 'module://ipykernel.pylab.backend_inline', 'TWILIO_ACCOUNT_SID': 'AC34b96a867f97947189a9c9510e1db8e', 'TWILIO_AUTH_TOKEN': '62d610a6df427002a643ae0b1b2e2f0f4'})\n"
     ]
    }
   ],
   "source": [
    "print(os.environ)"
   ]
  },
  {
   "cell_type": "code",
   "execution_count": 24,
   "metadata": {},
   "outputs": [
    {
     "name": "stdout",
     "output_type": "stream",
     "text": [
      "      {TWILIO_ACCOUNT_SID:'AC34b96a867f97947189a9c9510e1db8e4',\n",
      "       TWILIO_AUTH_TOKEN:'62d610a6df427002a643ae0b1b2e2f0f'}\n",
      "\n"
     ]
    },
    {
     "data": {
      "text/plain": [
       "['']"
      ]
     },
     "execution_count": 24,
     "metadata": {},
     "output_type": "execute_result"
    }
   ],
   "source": [
    "import re\n",
    "ex = open(sys.path[-1]+'/twilio.env','r')\n",
    "print(ex.read())\n",
    "x = re.split('export |\\n',ex.read())\n",
    "x"
   ]
  },
  {
   "cell_type": "code",
   "execution_count": 23,
   "metadata": {},
   "outputs": [
    {
     "data": {
      "text/plain": [
       "{'TWILIO_ACCOUNT_SID': 'AC34b96a867f97947189a9c9510e1db8e4',\n",
       " 'TWILIO_AUTH_TOKEN': '62d610a6df427002a643ae0b1b2e2f0f'}"
      ]
     },
     "execution_count": 23,
     "metadata": {},
     "output_type": "execute_result"
    }
   ],
   "source": [
    "import re\n",
    "ex = open(sys.path[-1]+'/twilio.env','r')\n",
    "env_var = {}\n",
    "for i in x:\n",
    "    if i != '':\n",
    "        keep = i.split('=')\n",
    "        env_var[keep[0]] = str(keep[1].replace(\"'\",''))\n",
    "\n",
    "env_var"
   ]
  },
  {
   "cell_type": "code",
   "execution_count": 20,
   "metadata": {},
   "outputs": [],
   "source": [
    "from dotenv import load_dotenv,find_dotenv\n",
    "import sys\n",
    "import os\n",
    "load_dotenv(dotenv_path=sys.path[-1]+'/twilio.env')\n",
    "TWILIO_ACCOUNT_SID = os.getenv(\"$TWILIO_ACCOUNT_SID\")"
   ]
  },
  {
   "cell_type": "code",
   "execution_count": 22,
   "metadata": {},
   "outputs": [
    {
     "name": "stdout",
     "output_type": "stream",
     "text": [
      "None\n"
     ]
    }
   ],
   "source": [
    "print(TWILIO_ACCOUNT_SID)"
   ]
  },
  {
   "cell_type": "code",
   "execution_count": 18,
   "metadata": {},
   "outputs": [
    {
     "data": {
      "text/plain": [
       "'/users/gustavomarquez/Desktop/rays_updates/twilio.env'"
      ]
     },
     "execution_count": 18,
     "metadata": {},
     "output_type": "execute_result"
    }
   ],
   "source": [
    "sys.path[-1]+'/twilio.env'"
   ]
  },
  {
   "cell_type": "code",
   "execution_count": 21,
   "metadata": {},
   "outputs": [
    {
     "data": {
      "text/plain": [
       "True"
      ]
     },
     "execution_count": 21,
     "metadata": {},
     "output_type": "execute_result"
    }
   ],
   "source": [
    "load_dotenv(find_dotenv())"
   ]
  },
  {
   "cell_type": "code",
   "execution_count": null,
   "metadata": {},
   "outputs": [],
   "source": []
  }
 ],
 "metadata": {
  "kernelspec": {
   "display_name": "Python 3",
   "language": "python",
   "name": "python3"
  },
  "language_info": {
   "codemirror_mode": {
    "name": "ipython",
    "version": 3
   },
   "file_extension": ".py",
   "mimetype": "text/x-python",
   "name": "python",
   "nbconvert_exporter": "python",
   "pygments_lexer": "ipython3",
   "version": "3.7.0"
  }
 },
 "nbformat": 4,
 "nbformat_minor": 2
}
